{
 "cells": [
  {
   "cell_type": "code",
   "execution_count": 1,
   "metadata": {},
   "outputs": [],
   "source": [
    "# from google.colab import drive\n",
    "# drive.mount('/content/gdrive', force_remount=True)"
   ]
  },
  {
   "cell_type": "code",
   "execution_count": 23,
   "metadata": {},
   "outputs": [],
   "source": [
    "import pandas as pd\n",
    "import numpy as np\n",
    "\n",
    "import glob\n",
    "import csv\n",
    "\n",
    "from PIL import Image\n",
    "import matplotlib.pyplot as plt\n",
    "import seaborn as sns\n",
    "import random\n",
    "\n",
    "import os\n",
    "import shutil\n",
    "import re\n",
    "import wget\n",
    "import requests as req\n",
    "from io import BytesIO\n",
    "\n",
    "import tensorflow as tf\n",
    "from tensorflow import keras\n",
    "from tensorflow.keras import Sequential\n",
    "from tensorflow.keras.layers import Dense,Conv2D,MaxPooling2D,Flatten,Reshape,Dropout\n",
    "from tensorflow.keras.preprocessing.image import ImageDataGenerator\n",
    "from tensorflow.keras.callbacks import EarlyStopping\n",
    "from tensorflow.keras.callbacks import ModelCheckpoint\n",
    "from tensorflow.keras.models import load_model\n",
    "from tensorflow.keras import regularizers\n",
    "\n",
    "from sklearn.metrics import classification_report, confusion_matrix"
   ]
  },
  {
   "cell_type": "markdown",
   "metadata": {},
   "source": [
    "# Подготовительный этап\n",
    "Полагаем, что изначально имеем папки с квадратными изображениями одного размера соответствующих классов (две папки - два класса).  "
   ]
  },
  {
   "cell_type": "markdown",
   "metadata": {},
   "source": [
    "В противном случае выполним преобразование:  \n",
    "<br>\n",
    "`for file_name in os.listdir(<путь до сырых картинок>):\n",
    "    im = Image.open(<путь до сырых картинок> + file_name)\n",
    "    square_im = crop_max_square(im)\n",
    "    scaled_im = square_im.resize(img_size)\n",
    "    scaled_im.save(\n",
    "        <путь до преобразованных картинок> + file_name)`\n",
    "        \n",
    "`crop_max_square` описано ниже"
   ]
  },
  {
   "cell_type": "markdown",
   "metadata": {},
   "source": [
    "## Глобальные константы"
   ]
  },
  {
   "cell_type": "code",
   "execution_count": 24,
   "metadata": {},
   "outputs": [],
   "source": [
    "img_size=(250, 250, 3) # используемый размер изображения\n",
    "batch_size=25 # размер батча - во всех моделях один и тот же\n",
    "max_epochs=100 # макс. кол-во эпох\n",
    "classes=['Ilya','Solovey'] # список классов\n",
    "\n",
    "main_path='C:/Users/injen/Desktop/PyProjects/ML&DS/Inf_El/LABs/CNN_Ilya_Solovey/' # директория папки проекта\n",
    "#main_path='/content/gdrive/My Drive/CNN_Ilya_Solovey/' # директория папки проекта\n",
    "save_dir=[main_path+'model_1/',main_path+'model_2/',main_path+'model_3/'] # адреса сохранения моделей\n",
    "saved_name=['best_cnn.h5','best_cnn.h5','best_cnn.h5'] # имя соотв. сохр. модели"
   ]
  },
  {
   "cell_type": "markdown",
   "metadata": {},
   "source": [
    "## Фукнция обрезки изображения\n",
    "Изображение обрезается до центрального наибольшего квадрата"
   ]
  },
  {
   "cell_type": "code",
   "execution_count": 25,
   "metadata": {},
   "outputs": [],
   "source": [
    "def crop_max_square(pil_img):\n",
    "    img_width, img_height = pil_img.size\n",
    "    min_size = min(img_width, img_height)\n",
    "    return pil_img.crop(((img_width - min_size) // 2,\n",
    "                         (img_height - min_size) // 2,\n",
    "                         (img_width + min_size) // 2,\n",
    "                         (img_height + min_size) // 2))"
   ]
  },
  {
   "cell_type": "markdown",
   "metadata": {},
   "source": [
    "## Функции переименования изображений и получения названия их класса\n",
    "Изображения из исходных папок сохраняются в общую папку с уникальным именем."
   ]
  },
  {
   "cell_type": "code",
   "execution_count": 26,
   "metadata": {},
   "outputs": [],
   "source": [
    "def rename_n_move(direc_old,direc_new,keyword):\n",
    "    folder = os.listdir(direc_old)\n",
    "    for i, file_name in enumerate(folder): \n",
    "        file_oldname = os.path.join(direc_old, file_name)\n",
    "        point_pos=file_oldname[::-1].find('.')\n",
    "        im = Image.open(direc_old + file_name)\n",
    "        im.save(direc_new+keyword+'_'+str(i)+file_oldname[-(point_pos+1):])\n",
    "            \n",
    "def get_fname_class(arr_data, path):\n",
    "    for root, dirs, files in os.walk(path):\n",
    "        for filename in files:\n",
    "            key_pos=filename.find('_')\n",
    "            arr_data.append([filename, filename[:key_pos]])    \n",
    "    return arr_data"
   ]
  },
  {
   "cell_type": "markdown",
   "metadata": {},
   "source": [
    "## Функция создания каталога с двумя подкаталогами"
   ]
  },
  {
   "cell_type": "code",
   "execution_count": 27,
   "metadata": {},
   "outputs": [],
   "source": [
    "def create_directory(dir_name):\n",
    "    if os.path.exists(dir_name):\n",
    "        shutil.rmtree(dir_name)\n",
    "    os.makedirs(dir_name)\n",
    "    os.makedirs(os.path.join(dir_name, classes[0]))\n",
    "    os.makedirs(os.path.join(dir_name, classes[1]))"
   ]
  },
  {
   "cell_type": "markdown",
   "metadata": {},
   "source": [
    "## Функция определения класса одного конкретного изображения"
   ]
  },
  {
   "cell_type": "code",
   "execution_count": 65,
   "metadata": {},
   "outputs": [],
   "source": [
    "def classificaton_img(image,type_img):\n",
    "    x_test=np.asarray(image, dtype=np.float64)\n",
    "    x_test=x_test.reshape(1,img_size[0],img_size[1],img_size[2])\n",
    "    x_test=x_test/255\n",
    "    prediction=model_used.predict(x_test)\n",
    "    if prediction[0][0]>prediction[0][1]:\n",
    "        print('{} ({}, вер. {:.3f})'.format(classes[0],type_img,prediction[0][0]), end='')\n",
    "    elif prediction[0][0]<prediction[0][1]:\n",
    "        print('{} ({}, вер. {:.3f})'.format(classes[1],type_img,prediction[0][1]), end='')\n",
    "    else:\n",
    "        print('непонятно кто ({})'.format(type_img), end='')   "
   ]
  },
  {
   "cell_type": "markdown",
   "metadata": {},
   "source": [
    "## Подготовка данных"
   ]
  },
  {
   "cell_type": "code",
   "execution_count": 7,
   "metadata": {},
   "outputs": [],
   "source": [
    "img_path_Ilya=main_path+'source_images/Ilya_Muromets/'\n",
    "img_path_Solovey=main_path+'source_images/The_Nightingale_The_Robber/'\n",
    "\n",
    "img_path_all=main_path+'all_imgs/'\n",
    "if os.path.exists(img_path_all):\n",
    "    shutil.rmtree(img_path_all)\n",
    "os.makedirs(img_path_all)"
   ]
  },
  {
   "cell_type": "markdown",
   "metadata": {},
   "source": [
    "Переносим все изображения в одну папку, переименовывая их."
   ]
  },
  {
   "cell_type": "code",
   "execution_count": 8,
   "metadata": {},
   "outputs": [],
   "source": [
    "rename_n_move(img_path_Ilya,img_path_all, classes[0])\n",
    "rename_n_move(img_path_Solovey,img_path_all, classes[1])"
   ]
  },
  {
   "cell_type": "markdown",
   "metadata": {},
   "source": [
    "Теперь все имеющиеся изображения находятся в одной папке и имеют уникальные порядковые номера.  \n",
    "Разделим их на две: в одной - изображения для обучения и валидации, в другой - для тестирования.  \n",
    "Для теста выберем 10% изображений от общего числа, а для валидации - 20% от оставшегося количества."
   ]
  },
  {
   "cell_type": "markdown",
   "metadata": {},
   "source": [
    "Сформируем списки индексов изображений для соответствующих групп."
   ]
  },
  {
   "cell_type": "code",
   "execution_count": 9,
   "metadata": {},
   "outputs": [],
   "source": [
    "test_share=0.1\n",
    "valid_share=0.2\n",
    "total=[i for i in range(len(glob.glob(img_path_all+'*'))//len(classes))]\n",
    "\n",
    "test=random.sample(total, int(test_share*len(total)))\n",
    "\n",
    "train_n_valid=[item for item in total if item not in test]\n",
    "\n",
    "valid=random.sample(train_n_valid, int((valid_share*(1-test_share))*len(train_n_valid)))\n",
    "train=[item for item in train_n_valid if item not in valid]"
   ]
  },
  {
   "cell_type": "markdown",
   "metadata": {},
   "source": [
    "Создадим папки для соответствующих групп изображений и скопируем изображения по их индексам в имени в соответствующие папки.  \n",
    "Изображения разных классов копируются в разные подпадпки."
   ]
  },
  {
   "cell_type": "code",
   "execution_count": 10,
   "metadata": {},
   "outputs": [],
   "source": [
    "test_path=main_path+'test/'\n",
    "train_path=main_path+'train/'\n",
    "valid_path=main_path+'valid/'"
   ]
  },
  {
   "cell_type": "code",
   "execution_count": 11,
   "metadata": {},
   "outputs": [
    {
     "name": "stdout",
     "output_type": "stream",
     "text": [
      "Ilya\n",
      "[62, 101, 462]\n",
      "Solovey\n",
      "[62, 101, 462]\n"
     ]
    }
   ],
   "source": [
    "create_directory(test_path)\n",
    "create_directory(train_path)\n",
    "create_directory(valid_path)\n",
    "\n",
    "cnt=[0,0,0]\n",
    "for class_name in classes:\n",
    "    print(class_name)\n",
    "    cnt=[0,0,0]\n",
    "    for file_name in os.listdir(img_path_all):\n",
    "        im = Image.open(img_path_all + file_name)\n",
    "        \n",
    "        if class_name in file_name:\n",
    "            if int(re.findall('(\\d+)', file_name)[0]) in test:\n",
    "                im.save(test_path+class_name+'/'+file_name)\n",
    "                cnt[0]+=1\n",
    "            elif int(re.findall('(\\d+)', file_name)[0]) in valid:\n",
    "                im.save(valid_path+class_name+'/'+file_name)\n",
    "                cnt[1]+=1\n",
    "            else:\n",
    "                im.save(train_path+class_name+'/'+file_name)\n",
    "                cnt[2]+=1\n",
    "    else:\n",
    "        print(cnt)"
   ]
  },
  {
   "cell_type": "markdown",
   "metadata": {},
   "source": [
    "## Создание наборов данных\n",
    "Создаём генераторы данных на основе изображений из соответствующих каталогов.  \n",
    "Keras автоматически определит класс изображения по названию его папки.  \n",
    "Исходные изображения для обучения и валидации могут быть случайно отражены по горизонтали и вертикали, и повёрнуты на угол до 180 град."
   ]
  },
  {
   "cell_type": "code",
   "execution_count": 12,
   "metadata": {},
   "outputs": [
    {
     "name": "stdout",
     "output_type": "stream",
     "text": [
      "Found 924 images belonging to 2 classes.\n",
      "Found 202 images belonging to 2 classes.\n",
      "Found 124 images belonging to 2 classes.\n"
     ]
    }
   ],
   "source": [
    "datagen_train_valid = ImageDataGenerator(rescale=1./255, horizontal_flip=True, vertical_flip=True, rotation_range=180)\n",
    "datagen_test = ImageDataGenerator(rescale=1./255)\n",
    "\n",
    "train_generator = datagen_train_valid.flow_from_directory(\n",
    "    train_path,\n",
    "    target_size=(img_size[0], img_size[1]),\n",
    "    batch_size=batch_size,\n",
    "    class_mode='categorical')\n",
    "\n",
    "valid_generator = datagen_train_valid.flow_from_directory(\n",
    "    valid_path,\n",
    "    target_size=(img_size[0], img_size[1]),\n",
    "    batch_size=batch_size,\n",
    "    class_mode='categorical')\n",
    "\n",
    "test_generator = datagen_test.flow_from_directory(\n",
    "    test_path,\n",
    "    target_size=(img_size[0], img_size[1]),\n",
    "    batch_size=batch_size,\n",
    "    class_mode='categorical',\n",
    "    shuffle=False)"
   ]
  },
  {
   "cell_type": "markdown",
   "metadata": {},
   "source": [
    "# Создание моделей и их обучение"
   ]
  },
  {
   "cell_type": "markdown",
   "metadata": {},
   "source": [
    "## Далее представлены три различных модели, самая эффективная - Модель №3."
   ]
  },
  {
   "cell_type": "markdown",
   "metadata": {},
   "source": [
    "# Модель №1\n",
    "Самая ресурсоёмкая модель и не очень точная модель."
   ]
  },
  {
   "cell_type": "code",
   "execution_count": 100,
   "metadata": {},
   "outputs": [
    {
     "name": "stdout",
     "output_type": "stream",
     "text": [
      "Model: \"sequential_87\"\n",
      "_________________________________________________________________\n",
      "Layer (type)                 Output Shape              Param #   \n",
      "=================================================================\n",
      "conv2d_348 (Conv2D)          (None, 250, 250, 32)      896       \n",
      "_________________________________________________________________\n",
      "max_pooling2d_348 (MaxPoolin (None, 125, 125, 32)      0         \n",
      "_________________________________________________________________\n",
      "conv2d_349 (Conv2D)          (None, 125, 125, 64)      18496     \n",
      "_________________________________________________________________\n",
      "max_pooling2d_349 (MaxPoolin (None, 62, 62, 64)        0         \n",
      "_________________________________________________________________\n",
      "conv2d_350 (Conv2D)          (None, 62, 62, 128)       73856     \n",
      "_________________________________________________________________\n",
      "max_pooling2d_350 (MaxPoolin (None, 31, 31, 128)       0         \n",
      "_________________________________________________________________\n",
      "conv2d_351 (Conv2D)          (None, 31, 31, 128)       16512     \n",
      "_________________________________________________________________\n",
      "max_pooling2d_351 (MaxPoolin (None, 15, 15, 128)       0         \n",
      "_________________________________________________________________\n",
      "dropout_87 (Dropout)         (None, 15, 15, 128)       0         \n",
      "_________________________________________________________________\n",
      "dense_174 (Dense)            (None, 15, 15, 1651)      212979    \n",
      "_________________________________________________________________\n",
      "flatten_87 (Flatten)         (None, 371475)            0         \n",
      "_________________________________________________________________\n",
      "dropout_88 (Dropout)         (None, 371475)            0         \n",
      "_________________________________________________________________\n",
      "dense_175 (Dense)            (None, 331)               122958556 \n",
      "_________________________________________________________________\n",
      "flatten_88 (Flatten)         (None, 331)               0         \n",
      "_________________________________________________________________\n",
      "dense_176 (Dense)            (None, 2)                 664       \n",
      "=================================================================\n",
      "Total params: 123,281,959\n",
      "Trainable params: 123,281,959\n",
      "Non-trainable params: 0\n",
      "_________________________________________________________________\n",
      "Epoch 1/100\n",
      "37/37 [==============================] - 71s 2s/step - loss: 0.8476 - accuracy: 0.6786 - val_loss: 0.5110 - val_accuracy: 0.8762\n",
      "\n",
      "Epoch 00001: saving model to C:/Users/injen/Desktop/PyProjects/ML&DS/Inf_El/LABs/CNN_Ilya_Solovey/model_1\\best_cnn.h5\n",
      "Epoch 2/100\n",
      "37/37 [==============================] - 66s 2s/step - loss: 0.3397 - accuracy: 0.9372 - val_loss: 0.2394 - val_accuracy: 0.9950\n",
      "\n",
      "Epoch 00002: saving model to C:/Users/injen/Desktop/PyProjects/ML&DS/Inf_El/LABs/CNN_Ilya_Solovey/model_1\\best_cnn.h5\n",
      "Epoch 3/100\n",
      "37/37 [==============================] - 66s 2s/step - loss: 0.2056 - accuracy: 0.9827 - val_loss: 0.1710 - val_accuracy: 0.9802\n",
      "\n",
      "Epoch 00003: saving model to C:/Users/injen/Desktop/PyProjects/ML&DS/Inf_El/LABs/CNN_Ilya_Solovey/model_1\\best_cnn.h5\n",
      "Epoch 4/100\n",
      "37/37 [==============================] - 66s 2s/step - loss: 0.1594 - accuracy: 0.9805 - val_loss: 0.1451 - val_accuracy: 0.9802\n",
      "\n",
      "Epoch 00004: saving model to C:/Users/injen/Desktop/PyProjects/ML&DS/Inf_El/LABs/CNN_Ilya_Solovey/model_1\\best_cnn.h5\n",
      "Epoch 5/100\n",
      "37/37 [==============================] - 66s 2s/step - loss: 0.1234 - accuracy: 0.9903 - val_loss: 0.1224 - val_accuracy: 0.9901\n",
      "\n",
      "Epoch 00005: saving model to C:/Users/injen/Desktop/PyProjects/ML&DS/Inf_El/LABs/CNN_Ilya_Solovey/model_1\\best_cnn.h5\n",
      "Epoch 6/100\n",
      "37/37 [==============================] - 66s 2s/step - loss: 0.1111 - accuracy: 0.9968 - val_loss: 0.1074 - val_accuracy: 0.9950\n",
      "\n",
      "Epoch 00006: saving model to C:/Users/injen/Desktop/PyProjects/ML&DS/Inf_El/LABs/CNN_Ilya_Solovey/model_1\\best_cnn.h5\n",
      "Epoch 7/100\n",
      "37/37 [==============================] - 66s 2s/step - loss: 0.1038 - accuracy: 0.9913 - val_loss: 0.1085 - val_accuracy: 0.9901\n",
      "\n",
      "Epoch 00007: saving model to C:/Users/injen/Desktop/PyProjects/ML&DS/Inf_El/LABs/CNN_Ilya_Solovey/model_1\\best_cnn.h5\n",
      "Epoch 8/100\n",
      "37/37 [==============================] - 66s 2s/step - loss: 0.1194 - accuracy: 0.9838 - val_loss: 0.1224 - val_accuracy: 0.9950\n",
      "\n",
      "Epoch 00008: saving model to C:/Users/injen/Desktop/PyProjects/ML&DS/Inf_El/LABs/CNN_Ilya_Solovey/model_1\\best_cnn.h5\n",
      "Epoch 9/100\n",
      "37/37 [==============================] - 66s 2s/step - loss: 0.0837 - accuracy: 0.9968 - val_loss: 0.0858 - val_accuracy: 0.9901\n",
      "\n",
      "Epoch 00009: saving model to C:/Users/injen/Desktop/PyProjects/ML&DS/Inf_El/LABs/CNN_Ilya_Solovey/model_1\\best_cnn.h5\n"
     ]
    },
    {
     "data": {
      "text/plain": [
       "<keras.callbacks.History at 0x19cb77a7978>"
      ]
     },
     "execution_count": 100,
     "metadata": {},
     "output_type": "execute_result"
    }
   ],
   "source": [
    "model_1 = Sequential([\n",
    "    Conv2D(filters=32,kernel_size=(3,3), padding='same', strides=1, input_shape = img_size, activation='relu'),\n",
    "    MaxPooling2D(pool_size=(2,2)),\n",
    "    \n",
    "    Conv2D(filters=64,kernel_size=(3,3), padding='same', strides=1, activation='relu'),\n",
    "    MaxPooling2D(pool_size=(2,2)),\n",
    "    \n",
    "    Conv2D(filters=128,kernel_size=(3,3), padding='same', strides=1, activation='relu'),\n",
    "    MaxPooling2D(pool_size=(2,2)),\n",
    "\n",
    "    Conv2D(filters=128,kernel_size=(1,1), padding='same', strides=1, activation='relu'),\n",
    "    MaxPooling2D(pool_size=(2,2)),\n",
    "    \n",
    "    Dropout(0.1),\n",
    "    Dense(1651, activation='relu', activity_regularizer=regularizers.L2(0.1)),\n",
    "    Flatten(),\n",
    "    Dropout(0.25),\n",
    "    Dense(331, activation='relu', activity_regularizer=regularizers.L2(0.01)),\n",
    "    Flatten(),\n",
    "    Dense(2, activation='softmax')\n",
    "])\n",
    "\n",
    "model_1.compile(optimizer='adam', loss='categorical_crossentropy',metrics=['accuracy'])\n",
    "\n",
    "earlyStop = (EarlyStopping(patience = 3, monitor=\"accuracy\", mode=\"max\"))\n",
    "\n",
    "if not os.path.exists(save_dir[0]):\n",
    "    os.mkdir(save_dir[0])\n",
    "\n",
    "checkPoint = ModelCheckpoint(save_dir[0]+saved_name[0], monitor='accuracy', mode='max', verbose=1)\n",
    "\n",
    "model_1.summary()\n",
    "\n",
    "model_1.fit(\n",
    "    train_generator,\n",
    "    #steps_per_epoch=nb_train_samples // batch_size,\n",
    "    epochs=max_epochs,\n",
    "    validation_data=valid_generator,\n",
    "    #validation_steps=nb_validation_samples // batch_size,\n",
    "    callbacks=[earlyStop,checkPoint]\n",
    ")"
   ]
  },
  {
   "cell_type": "markdown",
   "metadata": {},
   "source": [
    "# Модель №2\n",
    "Наименее ресурсоёмкая модель. Не обесечивает требуюмую точность."
   ]
  },
  {
   "cell_type": "code",
   "execution_count": 121,
   "metadata": {},
   "outputs": [
    {
     "name": "stdout",
     "output_type": "stream",
     "text": [
      "Model: \"sequential_108\"\n",
      "_________________________________________________________________\n",
      "Layer (type)                 Output Shape              Param #   \n",
      "=================================================================\n",
      "conv2d_432 (Conv2D)          (None, 125, 125, 1)       49        \n",
      "_________________________________________________________________\n",
      "max_pooling2d_432 (MaxPoolin (None, 62, 62, 1)         0         \n",
      "_________________________________________________________________\n",
      "conv2d_433 (Conv2D)          (None, 62, 62, 2)         20        \n",
      "_________________________________________________________________\n",
      "max_pooling2d_433 (MaxPoolin (None, 31, 31, 2)         0         \n",
      "_________________________________________________________________\n",
      "conv2d_434 (Conv2D)          (None, 31, 31, 4)         76        \n",
      "_________________________________________________________________\n",
      "max_pooling2d_434 (MaxPoolin (None, 15, 15, 4)         0         \n",
      "_________________________________________________________________\n",
      "conv2d_435 (Conv2D)          (None, 15, 15, 2)         10        \n",
      "_________________________________________________________________\n",
      "max_pooling2d_435 (MaxPoolin (None, 7, 7, 2)           0         \n",
      "_________________________________________________________________\n",
      "dropout_109 (Dropout)        (None, 7, 7, 2)           0         \n",
      "_________________________________________________________________\n",
      "dense_217 (Dense)            (None, 7, 7, 4)           12        \n",
      "_________________________________________________________________\n",
      "flatten_109 (Flatten)        (None, 196)               0         \n",
      "_________________________________________________________________\n",
      "dense_218 (Dense)            (None, 2)                 394       \n",
      "=================================================================\n",
      "Total params: 561\n",
      "Trainable params: 561\n",
      "Non-trainable params: 0\n",
      "_________________________________________________________________\n",
      "Epoch 1/100\n",
      "37/37 [==============================] - 15s 390ms/step - loss: 0.6931 - accuracy: 0.4924 - val_loss: 0.6934 - val_accuracy: 0.4802\n",
      "\n",
      "Epoch 00001: saving model to C:/Users/injen/Desktop/PyProjects/ML&DS/Inf_El/LABs/CNN_Ilya_Solovey/model_2\\best_cnn.h5\n",
      "Epoch 2/100\n",
      "37/37 [==============================] - 14s 377ms/step - loss: 0.6931 - accuracy: 0.5108 - val_loss: 0.6937 - val_accuracy: 0.4802\n",
      "\n",
      "Epoch 00002: saving model to C:/Users/injen/Desktop/PyProjects/ML&DS/Inf_El/LABs/CNN_Ilya_Solovey/model_2\\best_cnn.h5\n",
      "Epoch 3/100\n",
      "37/37 [==============================] - 14s 377ms/step - loss: 0.6934 - accuracy: 0.5022 - val_loss: 0.6931 - val_accuracy: 0.5099\n",
      "\n",
      "Epoch 00003: saving model to C:/Users/injen/Desktop/PyProjects/ML&DS/Inf_El/LABs/CNN_Ilya_Solovey/model_2\\best_cnn.h5\n",
      "Epoch 4/100\n",
      "37/37 [==============================] - 14s 373ms/step - loss: 0.6924 - accuracy: 0.5346 - val_loss: 0.6897 - val_accuracy: 0.6139\n",
      "\n",
      "Epoch 00004: saving model to C:/Users/injen/Desktop/PyProjects/ML&DS/Inf_El/LABs/CNN_Ilya_Solovey/model_2\\best_cnn.h5\n",
      "Epoch 5/100\n",
      "37/37 [==============================] - 14s 374ms/step - loss: 0.6906 - accuracy: 0.5639 - val_loss: 0.6838 - val_accuracy: 0.6386\n",
      "\n",
      "Epoch 00005: saving model to C:/Users/injen/Desktop/PyProjects/ML&DS/Inf_El/LABs/CNN_Ilya_Solovey/model_2\\best_cnn.h5\n",
      "Epoch 6/100\n",
      "37/37 [==============================] - 14s 374ms/step - loss: 0.6710 - accuracy: 0.6353 - val_loss: 0.6219 - val_accuracy: 0.6931\n",
      "\n",
      "Epoch 00006: saving model to C:/Users/injen/Desktop/PyProjects/ML&DS/Inf_El/LABs/CNN_Ilya_Solovey/model_2\\best_cnn.h5\n",
      "Epoch 7/100\n",
      "37/37 [==============================] - 14s 377ms/step - loss: 0.6041 - accuracy: 0.6959 - val_loss: 0.5380 - val_accuracy: 0.8020\n",
      "\n",
      "Epoch 00007: saving model to C:/Users/injen/Desktop/PyProjects/ML&DS/Inf_El/LABs/CNN_Ilya_Solovey/model_2\\best_cnn.h5\n",
      "Epoch 8/100\n",
      "37/37 [==============================] - 14s 376ms/step - loss: 0.5264 - accuracy: 0.7294 - val_loss: 0.4958 - val_accuracy: 0.7921\n",
      "\n",
      "Epoch 00008: saving model to C:/Users/injen/Desktop/PyProjects/ML&DS/Inf_El/LABs/CNN_Ilya_Solovey/model_2\\best_cnn.h5\n",
      "Epoch 9/100\n",
      "37/37 [==============================] - 14s 375ms/step - loss: 0.5040 - accuracy: 0.7955 - val_loss: 0.4028 - val_accuracy: 0.8762\n",
      "\n",
      "Epoch 00009: saving model to C:/Users/injen/Desktop/PyProjects/ML&DS/Inf_El/LABs/CNN_Ilya_Solovey/model_2\\best_cnn.h5\n",
      "Epoch 10/100\n",
      "37/37 [==============================] - 14s 372ms/step - loss: 0.4611 - accuracy: 0.8063 - val_loss: 0.3736 - val_accuracy: 0.8663\n",
      "\n",
      "Epoch 00010: saving model to C:/Users/injen/Desktop/PyProjects/ML&DS/Inf_El/LABs/CNN_Ilya_Solovey/model_2\\best_cnn.h5\n",
      "Epoch 11/100\n",
      "37/37 [==============================] - 14s 373ms/step - loss: 0.3899 - accuracy: 0.8452 - val_loss: 0.3131 - val_accuracy: 0.8713\n",
      "\n",
      "Epoch 00011: saving model to C:/Users/injen/Desktop/PyProjects/ML&DS/Inf_El/LABs/CNN_Ilya_Solovey/model_2\\best_cnn.h5\n",
      "Epoch 12/100\n",
      "37/37 [==============================] - 14s 378ms/step - loss: 0.3303 - accuracy: 0.8896 - val_loss: 0.2520 - val_accuracy: 0.9158\n",
      "\n",
      "Epoch 00012: saving model to C:/Users/injen/Desktop/PyProjects/ML&DS/Inf_El/LABs/CNN_Ilya_Solovey/model_2\\best_cnn.h5\n",
      "Epoch 13/100\n",
      "37/37 [==============================] - 14s 371ms/step - loss: 0.2587 - accuracy: 0.9264 - val_loss: 0.1746 - val_accuracy: 0.9505\n",
      "\n",
      "Epoch 00013: saving model to C:/Users/injen/Desktop/PyProjects/ML&DS/Inf_El/LABs/CNN_Ilya_Solovey/model_2\\best_cnn.h5\n",
      "Epoch 14/100\n",
      "37/37 [==============================] - 14s 370ms/step - loss: 0.2013 - accuracy: 0.9394 - val_loss: 0.1487 - val_accuracy: 0.9604\n",
      "\n",
      "Epoch 00014: saving model to C:/Users/injen/Desktop/PyProjects/ML&DS/Inf_El/LABs/CNN_Ilya_Solovey/model_2\\best_cnn.h5\n",
      "Epoch 15/100\n",
      "37/37 [==============================] - 14s 377ms/step - loss: 0.1787 - accuracy: 0.9448 - val_loss: 0.1238 - val_accuracy: 0.9703\n",
      "\n",
      "Epoch 00015: saving model to C:/Users/injen/Desktop/PyProjects/ML&DS/Inf_El/LABs/CNN_Ilya_Solovey/model_2\\best_cnn.h5\n",
      "Epoch 16/100\n",
      "37/37 [==============================] - 14s 388ms/step - loss: 0.1520 - accuracy: 0.9578 - val_loss: 0.1103 - val_accuracy: 0.9703\n",
      "\n",
      "Epoch 00016: saving model to C:/Users/injen/Desktop/PyProjects/ML&DS/Inf_El/LABs/CNN_Ilya_Solovey/model_2\\best_cnn.h5\n",
      "Epoch 17/100\n",
      "37/37 [==============================] - 14s 392ms/step - loss: 0.1442 - accuracy: 0.9545 - val_loss: 0.1118 - val_accuracy: 0.9703\n",
      "\n",
      "Epoch 00017: saving model to C:/Users/injen/Desktop/PyProjects/ML&DS/Inf_El/LABs/CNN_Ilya_Solovey/model_2\\best_cnn.h5\n",
      "Epoch 18/100\n",
      "37/37 [==============================] - 14s 390ms/step - loss: 0.1205 - accuracy: 0.9665 - val_loss: 0.0956 - val_accuracy: 0.9752\n",
      "\n",
      "Epoch 00018: saving model to C:/Users/injen/Desktop/PyProjects/ML&DS/Inf_El/LABs/CNN_Ilya_Solovey/model_2\\best_cnn.h5\n",
      "Epoch 19/100\n",
      "37/37 [==============================] - 14s 377ms/step - loss: 0.1077 - accuracy: 0.9686 - val_loss: 0.0778 - val_accuracy: 0.9802\n",
      "\n",
      "Epoch 00019: saving model to C:/Users/injen/Desktop/PyProjects/ML&DS/Inf_El/LABs/CNN_Ilya_Solovey/model_2\\best_cnn.h5\n",
      "Epoch 20/100\n",
      "37/37 [==============================] - 14s 373ms/step - loss: 0.1069 - accuracy: 0.9719 - val_loss: 0.0955 - val_accuracy: 0.9752\n",
      "\n",
      "Epoch 00020: saving model to C:/Users/injen/Desktop/PyProjects/ML&DS/Inf_El/LABs/CNN_Ilya_Solovey/model_2\\best_cnn.h5\n",
      "Epoch 21/100\n",
      "37/37 [==============================] - 14s 376ms/step - loss: 0.0937 - accuracy: 0.9708 - val_loss: 0.0839 - val_accuracy: 0.9752\n",
      "\n",
      "Epoch 00021: saving model to C:/Users/injen/Desktop/PyProjects/ML&DS/Inf_El/LABs/CNN_Ilya_Solovey/model_2\\best_cnn.h5\n",
      "Epoch 22/100\n",
      "37/37 [==============================] - 14s 377ms/step - loss: 0.0877 - accuracy: 0.9719 - val_loss: 0.0746 - val_accuracy: 0.9802\n",
      "\n",
      "Epoch 00022: saving model to C:/Users/injen/Desktop/PyProjects/ML&DS/Inf_El/LABs/CNN_Ilya_Solovey/model_2\\best_cnn.h5\n",
      "Epoch 23/100\n",
      "37/37 [==============================] - 14s 370ms/step - loss: 0.0857 - accuracy: 0.9794 - val_loss: 0.0985 - val_accuracy: 0.9752\n",
      "\n",
      "Epoch 00023: saving model to C:/Users/injen/Desktop/PyProjects/ML&DS/Inf_El/LABs/CNN_Ilya_Solovey/model_2\\best_cnn.h5\n",
      "Epoch 24/100\n",
      "37/37 [==============================] - 14s 370ms/step - loss: 0.0942 - accuracy: 0.9686 - val_loss: 0.0960 - val_accuracy: 0.9703\n",
      "\n",
      "Epoch 00024: saving model to C:/Users/injen/Desktop/PyProjects/ML&DS/Inf_El/LABs/CNN_Ilya_Solovey/model_2\\best_cnn.h5\n",
      "Epoch 25/100\n",
      "37/37 [==============================] - 14s 379ms/step - loss: 0.0751 - accuracy: 0.9784 - val_loss: 0.0751 - val_accuracy: 0.9703\n",
      "\n",
      "Epoch 00025: saving model to C:/Users/injen/Desktop/PyProjects/ML&DS/Inf_El/LABs/CNN_Ilya_Solovey/model_2\\best_cnn.h5\n",
      "Epoch 26/100\n",
      "37/37 [==============================] - 14s 389ms/step - loss: 0.0868 - accuracy: 0.9708 - val_loss: 0.0690 - val_accuracy: 0.9802\n",
      "\n",
      "Epoch 00026: saving model to C:/Users/injen/Desktop/PyProjects/ML&DS/Inf_El/LABs/CNN_Ilya_Solovey/model_2\\best_cnn.h5\n",
      "Epoch 27/100\n",
      "37/37 [==============================] - 14s 371ms/step - loss: 0.0650 - accuracy: 0.9805 - val_loss: 0.0937 - val_accuracy: 0.9703\n",
      "\n",
      "Epoch 00027: saving model to C:/Users/injen/Desktop/PyProjects/ML&DS/Inf_El/LABs/CNN_Ilya_Solovey/model_2\\best_cnn.h5\n",
      "Epoch 28/100\n",
      "37/37 [==============================] - 14s 373ms/step - loss: 0.0662 - accuracy: 0.9794 - val_loss: 0.0714 - val_accuracy: 0.9802\n",
      "\n",
      "Epoch 00028: saving model to C:/Users/injen/Desktop/PyProjects/ML&DS/Inf_El/LABs/CNN_Ilya_Solovey/model_2\\best_cnn.h5\n",
      "Epoch 29/100\n",
      "37/37 [==============================] - 14s 383ms/step - loss: 0.0675 - accuracy: 0.9848 - val_loss: 0.0827 - val_accuracy: 0.9752\n",
      "\n",
      "Epoch 00029: saving model to C:/Users/injen/Desktop/PyProjects/ML&DS/Inf_El/LABs/CNN_Ilya_Solovey/model_2\\best_cnn.h5\n",
      "Epoch 30/100\n",
      "37/37 [==============================] - 14s 381ms/step - loss: 0.0741 - accuracy: 0.9773 - val_loss: 0.0966 - val_accuracy: 0.9703\n",
      "\n",
      "Epoch 00030: saving model to C:/Users/injen/Desktop/PyProjects/ML&DS/Inf_El/LABs/CNN_Ilya_Solovey/model_2\\best_cnn.h5\n",
      "Epoch 31/100\n",
      "37/37 [==============================] - 14s 389ms/step - loss: 0.0645 - accuracy: 0.9848 - val_loss: 0.1003 - val_accuracy: 0.9703\n",
      "\n",
      "Epoch 00031: saving model to C:/Users/injen/Desktop/PyProjects/ML&DS/Inf_El/LABs/CNN_Ilya_Solovey/model_2\\best_cnn.h5\n",
      "Epoch 32/100\n",
      "37/37 [==============================] - 14s 382ms/step - loss: 0.0656 - accuracy: 0.9838 - val_loss: 0.1000 - val_accuracy: 0.9703\n",
      "\n",
      "Epoch 00032: saving model to C:/Users/injen/Desktop/PyProjects/ML&DS/Inf_El/LABs/CNN_Ilya_Solovey/model_2\\best_cnn.h5\n",
      "Epoch 33/100\n",
      "37/37 [==============================] - 14s 379ms/step - loss: 0.0760 - accuracy: 0.9794 - val_loss: 0.0821 - val_accuracy: 0.9802\n",
      "\n",
      "Epoch 00033: saving model to C:/Users/injen/Desktop/PyProjects/ML&DS/Inf_El/LABs/CNN_Ilya_Solovey/model_2\\best_cnn.h5\n",
      "Epoch 34/100\n",
      "37/37 [==============================] - 14s 381ms/step - loss: 0.0686 - accuracy: 0.9838 - val_loss: 0.0764 - val_accuracy: 0.9752\n",
      "\n",
      "Epoch 00034: saving model to C:/Users/injen/Desktop/PyProjects/ML&DS/Inf_El/LABs/CNN_Ilya_Solovey/model_2\\best_cnn.h5\n",
      "Epoch 35/100\n",
      "37/37 [==============================] - 14s 382ms/step - loss: 0.0602 - accuracy: 0.9848 - val_loss: 0.0918 - val_accuracy: 0.9752\n",
      "\n",
      "Epoch 00035: saving model to C:/Users/injen/Desktop/PyProjects/ML&DS/Inf_El/LABs/CNN_Ilya_Solovey/model_2\\best_cnn.h5\n",
      "Epoch 36/100\n",
      "37/37 [==============================] - 14s 385ms/step - loss: 0.0675 - accuracy: 0.9773 - val_loss: 0.0841 - val_accuracy: 0.9703\n",
      "\n",
      "Epoch 00036: saving model to C:/Users/injen/Desktop/PyProjects/ML&DS/Inf_El/LABs/CNN_Ilya_Solovey/model_2\\best_cnn.h5\n",
      "Epoch 37/100\n",
      "37/37 [==============================] - 14s 373ms/step - loss: 0.0665 - accuracy: 0.9805 - val_loss: 0.0788 - val_accuracy: 0.9703\n",
      "\n",
      "Epoch 00037: saving model to C:/Users/injen/Desktop/PyProjects/ML&DS/Inf_El/LABs/CNN_Ilya_Solovey/model_2\\best_cnn.h5\n"
     ]
    },
    {
     "data": {
      "text/plain": [
       "<keras.callbacks.History at 0x19cc34c4940>"
      ]
     },
     "execution_count": 121,
     "metadata": {},
     "output_type": "execute_result"
    }
   ],
   "source": [
    "model_2 = Sequential([\n",
    "    Conv2D(filters=1,kernel_size=(4,4), padding='same', strides=2, input_shape = img_size, activation='relu'),\n",
    "    MaxPooling2D(pool_size=(2,2)),\n",
    "    \n",
    "    Conv2D(filters=2,kernel_size=(3,3), padding='same', strides=1, activation='relu'),\n",
    "    MaxPooling2D(pool_size=(2,2)),\n",
    "    \n",
    "    Conv2D(filters=4,kernel_size=(3,3), padding='same', strides=1, activation='relu'),\n",
    "    MaxPooling2D(pool_size=(2,2)),\n",
    "    \n",
    "    Conv2D(filters=2,kernel_size=(1,1), padding='same', strides=1, activation='relu'),\n",
    "    MaxPooling2D(pool_size=(2,2)),\n",
    "\n",
    "    \n",
    "    Dropout(0.25),\n",
    "    Dense(4, activation='relu'),\n",
    "    Flatten(),\n",
    "    Dense(2, activation='softmax')\n",
    "])\n",
    "\n",
    "model_2.compile(optimizer='adam', loss='categorical_crossentropy',metrics=['accuracy'])\n",
    "\n",
    "earlyStop = (EarlyStopping(patience = 8, monitor=\"accuracy\", mode=\"max\"))\n",
    "\n",
    "if not os.path.exists(save_dir[1]):\n",
    "    os.mkdir(save_dir[1])\n",
    "\n",
    "checkPoint = ModelCheckpoint(save_dir[1]+saved_name[1], monitor='accuracy', mode='max', verbose=1)\n",
    "\n",
    "model_2.summary()\n",
    "\n",
    "model_2.fit(\n",
    "    train_generator,\n",
    "    #steps_per_epoch=nb_train_samples // batch_size,\n",
    "    epochs=max_epochs,\n",
    "    validation_data=valid_generator,\n",
    "    #validation_steps=nb_validation_samples // batch_size,\n",
    "    callbacks=[earlyStop,checkPoint]\n",
    ")"
   ]
  },
  {
   "cell_type": "markdown",
   "metadata": {},
   "source": [
    "# Модель №3\n",
    "Самая эффективная модель - развитие модели №2 - по сравнению с предыдущими моделями требует наименьшее количество ресурсов, обеспечивая необходимую точность."
   ]
  },
  {
   "cell_type": "code",
   "execution_count": 139,
   "metadata": {},
   "outputs": [
    {
     "name": "stdout",
     "output_type": "stream",
     "text": [
      "Model: \"sequential_121\"\n",
      "_________________________________________________________________\n",
      "Layer (type)                 Output Shape              Param #   \n",
      "=================================================================\n",
      "conv2d_484 (Conv2D)          (None, 125, 125, 1)       49        \n",
      "_________________________________________________________________\n",
      "max_pooling2d_484 (MaxPoolin (None, 62, 62, 1)         0         \n",
      "_________________________________________________________________\n",
      "conv2d_485 (Conv2D)          (None, 62, 62, 2)         20        \n",
      "_________________________________________________________________\n",
      "max_pooling2d_485 (MaxPoolin (None, 31, 31, 2)         0         \n",
      "_________________________________________________________________\n",
      "conv2d_486 (Conv2D)          (None, 31, 31, 4)         76        \n",
      "_________________________________________________________________\n",
      "max_pooling2d_486 (MaxPoolin (None, 15, 15, 4)         0         \n",
      "_________________________________________________________________\n",
      "conv2d_487 (Conv2D)          (None, 15, 15, 2)         10        \n",
      "_________________________________________________________________\n",
      "max_pooling2d_487 (MaxPoolin (None, 7, 7, 2)           0         \n",
      "_________________________________________________________________\n",
      "dropout_122 (Dropout)        (None, 7, 7, 2)           0         \n",
      "_________________________________________________________________\n",
      "dense_243 (Dense)            (None, 7, 7, 5)           15        \n",
      "_________________________________________________________________\n",
      "flatten_122 (Flatten)        (None, 245)               0         \n",
      "_________________________________________________________________\n",
      "dense_244 (Dense)            (None, 2)                 492       \n",
      "=================================================================\n",
      "Total params: 662\n",
      "Trainable params: 662\n",
      "Non-trainable params: 0\n",
      "_________________________________________________________________\n",
      "Epoch 1/100\n",
      "37/37 [==============================] - 15s 390ms/step - loss: 0.6880 - accuracy: 0.6234 - val_loss: 0.6793 - val_accuracy: 0.5644\n",
      "\n",
      "Epoch 00001: saving model to C:/Users/injen/Desktop/PyProjects/ML&DS/Inf_El/LABs/CNN_Ilya_Solovey/model_3\\best_cnn.h5\n",
      "Epoch 2/100\n",
      "37/37 [==============================] - 14s 380ms/step - loss: 0.6555 - accuracy: 0.6634 - val_loss: 0.6088 - val_accuracy: 0.8218\n",
      "\n",
      "Epoch 00002: saving model to C:/Users/injen/Desktop/PyProjects/ML&DS/Inf_El/LABs/CNN_Ilya_Solovey/model_3\\best_cnn.h5\n",
      "Epoch 3/100\n",
      "37/37 [==============================] - 14s 377ms/step - loss: 0.5000 - accuracy: 0.8669 - val_loss: 0.3273 - val_accuracy: 0.9356\n",
      "\n",
      "Epoch 00003: saving model to C:/Users/injen/Desktop/PyProjects/ML&DS/Inf_El/LABs/CNN_Ilya_Solovey/model_3\\best_cnn.h5\n",
      "Epoch 4/100\n",
      "37/37 [==============================] - 14s 372ms/step - loss: 0.2068 - accuracy: 0.9567 - val_loss: 0.0924 - val_accuracy: 0.9851\n",
      "\n",
      "Epoch 00004: saving model to C:/Users/injen/Desktop/PyProjects/ML&DS/Inf_El/LABs/CNN_Ilya_Solovey/model_3\\best_cnn.h5\n",
      "Epoch 5/100\n",
      "37/37 [==============================] - 14s 391ms/step - loss: 0.0901 - accuracy: 0.9794 - val_loss: 0.0636 - val_accuracy: 0.9851\n",
      "\n",
      "Epoch 00005: saving model to C:/Users/injen/Desktop/PyProjects/ML&DS/Inf_El/LABs/CNN_Ilya_Solovey/model_3\\best_cnn.h5\n",
      "Epoch 6/100\n",
      "37/37 [==============================] - 14s 384ms/step - loss: 0.0542 - accuracy: 0.9892 - val_loss: 0.0566 - val_accuracy: 0.9851\n",
      "\n",
      "Epoch 00006: saving model to C:/Users/injen/Desktop/PyProjects/ML&DS/Inf_El/LABs/CNN_Ilya_Solovey/model_3\\best_cnn.h5\n",
      "Epoch 7/100\n",
      "37/37 [==============================] - 14s 376ms/step - loss: 0.0441 - accuracy: 0.9859 - val_loss: 0.0484 - val_accuracy: 0.9802\n",
      "\n",
      "Epoch 00007: saving model to C:/Users/injen/Desktop/PyProjects/ML&DS/Inf_El/LABs/CNN_Ilya_Solovey/model_3\\best_cnn.h5\n",
      "Epoch 8/100\n",
      "37/37 [==============================] - 15s 397ms/step - loss: 0.0480 - accuracy: 0.9859 - val_loss: 0.0691 - val_accuracy: 0.9802\n",
      "\n",
      "Epoch 00008: saving model to C:/Users/injen/Desktop/PyProjects/ML&DS/Inf_El/LABs/CNN_Ilya_Solovey/model_3\\best_cnn.h5\n",
      "Epoch 9/100\n",
      "37/37 [==============================] - 15s 402ms/step - loss: 0.0387 - accuracy: 0.9881 - val_loss: 0.0497 - val_accuracy: 0.9802\n",
      "\n",
      "Epoch 00009: saving model to C:/Users/injen/Desktop/PyProjects/ML&DS/Inf_El/LABs/CNN_Ilya_Solovey/model_3\\best_cnn.h5\n",
      "Epoch 10/100\n",
      "37/37 [==============================] - 14s 386ms/step - loss: 0.0498 - accuracy: 0.9848 - val_loss: 0.0435 - val_accuracy: 0.9851\n",
      "\n",
      "Epoch 00010: saving model to C:/Users/injen/Desktop/PyProjects/ML&DS/Inf_El/LABs/CNN_Ilya_Solovey/model_3\\best_cnn.h5\n",
      "Epoch 11/100\n",
      "37/37 [==============================] - 14s 383ms/step - loss: 0.0312 - accuracy: 0.9913 - val_loss: 0.0466 - val_accuracy: 0.9851\n",
      "\n",
      "Epoch 00011: saving model to C:/Users/injen/Desktop/PyProjects/ML&DS/Inf_El/LABs/CNN_Ilya_Solovey/model_3\\best_cnn.h5\n",
      "Epoch 12/100\n",
      "37/37 [==============================] - 15s 398ms/step - loss: 0.0397 - accuracy: 0.9870 - val_loss: 0.0631 - val_accuracy: 0.9802\n",
      "\n",
      "Epoch 00012: saving model to C:/Users/injen/Desktop/PyProjects/ML&DS/Inf_El/LABs/CNN_Ilya_Solovey/model_3\\best_cnn.h5\n",
      "Epoch 13/100\n",
      "37/37 [==============================] - 14s 388ms/step - loss: 0.0356 - accuracy: 0.9892 - val_loss: 0.0646 - val_accuracy: 0.9802\n",
      "\n",
      "Epoch 00013: saving model to C:/Users/injen/Desktop/PyProjects/ML&DS/Inf_El/LABs/CNN_Ilya_Solovey/model_3\\best_cnn.h5\n",
      "Epoch 14/100\n",
      "37/37 [==============================] - 14s 371ms/step - loss: 0.0319 - accuracy: 0.9892 - val_loss: 0.0738 - val_accuracy: 0.9802\n",
      "\n",
      "Epoch 00014: saving model to C:/Users/injen/Desktop/PyProjects/ML&DS/Inf_El/LABs/CNN_Ilya_Solovey/model_3\\best_cnn.h5\n",
      "Epoch 15/100\n",
      "37/37 [==============================] - 14s 374ms/step - loss: 0.0335 - accuracy: 0.9881 - val_loss: 0.0401 - val_accuracy: 0.9851\n",
      "\n",
      "Epoch 00015: saving model to C:/Users/injen/Desktop/PyProjects/ML&DS/Inf_El/LABs/CNN_Ilya_Solovey/model_3\\best_cnn.h5\n",
      "Epoch 16/100\n",
      "37/37 [==============================] - 14s 387ms/step - loss: 0.0349 - accuracy: 0.9892 - val_loss: 0.0543 - val_accuracy: 0.9752\n",
      "\n",
      "Epoch 00016: saving model to C:/Users/injen/Desktop/PyProjects/ML&DS/Inf_El/LABs/CNN_Ilya_Solovey/model_3\\best_cnn.h5\n",
      "Epoch 17/100\n",
      "37/37 [==============================] - 14s 373ms/step - loss: 0.0311 - accuracy: 0.9913 - val_loss: 0.0451 - val_accuracy: 0.9851\n",
      "\n",
      "Epoch 00017: saving model to C:/Users/injen/Desktop/PyProjects/ML&DS/Inf_El/LABs/CNN_Ilya_Solovey/model_3\\best_cnn.h5\n"
     ]
    },
    {
     "data": {
      "text/plain": [
       "<keras.callbacks.History at 0x19cc08b5470>"
      ]
     },
     "execution_count": 139,
     "metadata": {},
     "output_type": "execute_result"
    }
   ],
   "source": [
    "model_3 = Sequential([\n",
    "    Conv2D(filters=1,kernel_size=(4,4), padding='same', strides=2, input_shape = img_size, activation='relu'),\n",
    "    MaxPooling2D(pool_size=(2,2)),\n",
    "    \n",
    "    Conv2D(filters=2,kernel_size=(3,3), padding='same', strides=1, activation='relu'),\n",
    "    MaxPooling2D(pool_size=(2,2)),\n",
    "    \n",
    "    Conv2D(filters=4,kernel_size=(3,3), padding='same', strides=1, activation='relu'),\n",
    "    MaxPooling2D(pool_size=(2,2)),\n",
    "    \n",
    "    Conv2D(filters=2,kernel_size=(1,1), padding='same', strides=1, activation='relu'),\n",
    "    MaxPooling2D(pool_size=(2,2)),\n",
    "\n",
    "    \n",
    "    Dropout(0.2),\n",
    "    Dense(5,activation='relu'),\n",
    "    Flatten(),\n",
    "    Dense(2, activation='softmax')\n",
    "])\n",
    "\n",
    "model_3.compile(optimizer='adam', loss='categorical_crossentropy',metrics=['accuracy'])\n",
    "\n",
    "earlyStop = (EarlyStopping(patience = 6, monitor=\"accuracy\", mode=\"max\"))\n",
    "\n",
    "if not os.path.exists(save_dir[2]):\n",
    "    os.mkdir(save_dir[2])\n",
    "\n",
    "checkPoint = ModelCheckpoint(save_dir[2]+saved_name[2], monitor='accuracy', mode='max', verbose=1)\n",
    "\n",
    "model_3.summary()\n",
    "\n",
    "model_3.fit(\n",
    "    train_generator,\n",
    "    #steps_per_epoch=nb_train_samples // batch_size,\n",
    "    epochs=max_epochs,\n",
    "    validation_data=valid_generator,\n",
    "    #validation_steps=nb_validation_samples // batch_size,\n",
    "    callbacks=[earlyStop,checkPoint]\n",
    ")"
   ]
  },
  {
   "cell_type": "markdown",
   "metadata": {},
   "source": [
    "# Проверка моделей\n",
    "Построим матрицу ошибок для каждой сохранённой модели для данных train'а и test'а."
   ]
  },
  {
   "cell_type": "markdown",
   "metadata": {},
   "source": [
    "Загружаем модели."
   ]
  },
  {
   "cell_type": "code",
   "execution_count": 29,
   "metadata": {},
   "outputs": [],
   "source": [
    "our_model=[]\n",
    "for i,direc in enumerate(save_dir):\n",
    "    our_model.append(load_model(direc+saved_name[i]))"
   ]
  },
  {
   "cell_type": "markdown",
   "metadata": {},
   "source": [
    "### Матрицы ошибок для train'a\n",
    "Перезададим генератор для train'a - уберём элементы случайности, чтобы добиться однозначности генерации.  \n",
    "По параметрам такой генеатор идентичен генератору test."
   ]
  },
  {
   "cell_type": "code",
   "execution_count": 141,
   "metadata": {},
   "outputs": [
    {
     "name": "stdout",
     "output_type": "stream",
     "text": [
      "Found 924 images belonging to 2 classes.\n"
     ]
    }
   ],
   "source": [
    "train_pred_generator = datagen_test.flow_from_directory(\n",
    "    train_path,\n",
    "    target_size=(img_size[0], img_size[1]),\n",
    "    batch_size=batch_size,\n",
    "    class_mode='categorical',\n",
    "    shuffle=False)"
   ]
  },
  {
   "cell_type": "code",
   "execution_count": 142,
   "metadata": {},
   "outputs": [
    {
     "name": "stdout",
     "output_type": "stream",
     "text": [
      "Модель №1:\n",
      "37/37 [==============================] - 12s 332ms/step - loss: 0.0958 - accuracy: 0.9892\n",
      "Модель №2:\n",
      "37/37 [==============================] - 2s 41ms/step - loss: 0.0444 - accuracy: 0.9870\n",
      "Модель №3:\n",
      "37/37 [==============================] - 4s 98ms/step - loss: 0.0295 - accuracy: 0.9892\n"
     ]
    },
    {
     "data": {
      "image/png": "[encoded data removed]",
      "text/plain": [
       "<Figure size 1440x360 with 6 Axes>"
      ]
     },
     "metadata": {
      "needs_background": "light"
     },
     "output_type": "display_data"
    }
   ],
   "source": [
    "y_pred_train=[]\n",
    "for i,cnn in enumerate(our_model):\n",
    "    y_pred_train.append(cnn.predict(train_pred_generator))\n",
    "    print('Модель №{}:'.format(i+1))\n",
    "    cnn.evaluate(train_pred_generator)\n",
    "y_pred_train_classes=np.argmax(y_pred_train, axis=2)\n",
    "\n",
    "cnfsn_mtrx_train=[]\n",
    "for pred_classes in y_pred_train_classes:\n",
    "    cnfsn_mtrx_train.append(confusion_matrix(train_pred_generator.classes, pred_classes))\n",
    "\n",
    "f,axes=plt.subplots(1,3,figsize=(20,5))\n",
    "for i,plot in enumerate(cnfsn_mtrx_train):\n",
    "    sns.heatmap(plot, annot=True, fmt='.0f', ax=axes[i])\n",
    "    axes[i].set_title('Model №{}'.format(i+1))\n",
    "    axes[i].set_xticklabels(classes)\n",
    "    axes[i].set_yticklabels(classes)"
   ]
  },
  {
   "cell_type": "markdown",
   "metadata": {},
   "source": [
    "### Матрицы ошибок для test'a"
   ]
  },
  {
   "cell_type": "code",
   "execution_count": 143,
   "metadata": {},
   "outputs": [
    {
     "name": "stdout",
     "output_type": "stream",
     "text": [
      "Модель №1:\n",
      "5/5 [==============================] - 2s 335ms/step - loss: 0.0805 - accuracy: 1.0000\n",
      "Модель №2:\n",
      "5/5 [==============================] - 0s 38ms/step - loss: 0.0594 - accuracy: 0.9677\n",
      "Модель №3:\n",
      "5/5 [==============================] - 0s 40ms/step - loss: 0.0193 - accuracy: 0.9919\n"
     ]
    },
    {
     "data": {
      "image/png": "[encoded data removed]",
      "text/plain": [
       "<Figure size 1440x360 with 6 Axes>"
      ]
     },
     "metadata": {
      "needs_background": "light"
     },
     "output_type": "display_data"
    }
   ],
   "source": [
    "y_pred_test=[]\n",
    "for i,cnn in enumerate(our_model):\n",
    "    y_pred_test.append(cnn.predict(test_generator))\n",
    "    print('Модель №{}:'.format(i+1))\n",
    "    cnn.evaluate(test_generator)\n",
    "y_pred_test_classes=np.argmax(y_pred_test, axis=2)\n",
    "\n",
    "cnfsn_mtrx_test=[]\n",
    "for pred_classes in y_pred_test_classes:\n",
    "    cnfsn_mtrx_test.append(confusion_matrix(test_generator.classes, pred_classes))\n",
    "\n",
    "f,axes=plt.subplots(1,3,figsize=(20,5))\n",
    "for i,plot in enumerate(cnfsn_mtrx_test):\n",
    "    sns.heatmap(plot, annot=True, fmt='.0f', ax=axes[i])\n",
    "    axes[i].set_title('Model №{}'.format(i+1))\n",
    "    axes[i].set_xticklabels(classes)\n",
    "    axes[i].set_yticklabels(classes)"
   ]
  },
  {
   "cell_type": "markdown",
   "metadata": {},
   "source": [
    "## Проверка на конкретных изображениях"
   ]
  },
  {
   "cell_type": "markdown",
   "metadata": {},
   "source": [
    "Имеем папку с изображениями исходных классов случайных размеров (скачали из интернета).\n",
    "\n",
    "НН обучалась на квадратных изображениях с нормальными пропорциями, поэтому для корректной классификации тестовых данных исходное изображение следует обрезать до наибольшего центрального квадрата и масштабировать до требуемого размера img_size.\n",
    "\n",
    "Однако, НН также успешно (но хуже) классифицирует изображения с изменёнными пропорциями (когда прямоугольник сжимают в квадрат).\n",
    "\n",
    "Следует также учитывать, что, обрезая тестовое изображение до квадрата, можно потерять часть полезных данных.\n",
    "\n",
    "Поэтому для каждого тестового изображения НН даст два ответа: для его нормального (но обрезанного) вида и для вида с изменёнными пропорциями, причём первому ответу в общем случае следует отдавать предпочтение."
   ]
  },
  {
   "cell_type": "markdown",
   "metadata": {},
   "source": [
    "### В папке с сырыми тестовыми изображениями создаются две папки: для квадратных и просто ресайзнутых. Поддерживаются только .jpeg, .jpg и .webp форматы."
   ]
  },
  {
   "cell_type": "code",
   "execution_count": 70,
   "metadata": {},
   "outputs": [],
   "source": [
    "mode = 0 # 0 - если проверяется изображение из интернета; 1 - если из директории\n",
    "\n",
    "# адресс изображения в интернете для скачивания\n",
    "url= 'https://i.pinimg.com/564x/4d/5f/71/4d5f710e6b31e7fa55052c821a1bb11f.jpg'\n",
    "\n",
    "# путь до папки с тестовыми уже скачанными сырыми изображениями\n",
    "test_path=main_path+'real_img/' # НН класиифицирует каждое изображение в этой папке\n",
    "\n",
    "if mode:\n",
    "    test_squared_path=(test_path+'squared/')\n",
    "    test_just_resized_path=(test_path+'just_resized/')\n",
    "\n",
    "    if not os.path.exists(test_squared_path):\n",
    "        os.mkdir(test_squared_path)\n",
    "    if not os.path.exists(test_just_resized_path):\n",
    "        os.mkdir(test_just_resized_path)\n",
    "\n",
    "    for file_name in os.listdir(test_path):\n",
    "        if file_name.endswith('.jpg') or file_name.endswith('.jpeg') or file_name.endswith('.webp'):\n",
    "            im = Image.open(test_path + file_name)\n",
    "\n",
    "            im_squared = crop_max_square(im)\n",
    "            scaled_im = im_squared.resize((img_size[0],img_size[1]))\n",
    "            scaled_im.save(test_squared_path + file_name)\n",
    "\n",
    "            just_resized=im.resize((img_size[0],img_size[1]))\n",
    "            just_resized.save(test_just_resized_path+file_name) "
   ]
  },
  {
   "cell_type": "markdown",
   "metadata": {},
   "source": [
    "Выбираем модель и предсказываем класс."
   ]
  },
  {
   "cell_type": "code",
   "execution_count": 71,
   "metadata": {},
   "outputs": [
    {
     "name": "stdout",
     "output_type": "stream",
     "text": [
      "На изображении по URL -- Ilya (норм. проп., вер. 0.853) или Ilya (изм. проп., вер. 0.851)"
     ]
    }
   ],
   "source": [
    "model_used=our_model[2]\n",
    "\n",
    "if mode:\n",
    "    for file_name in os.listdir(test_path):\n",
    "        if file_name.endswith('.jpg') or file_name.endswith('.jpeg') or file_name.endswith('.webp'):\n",
    "            print('На изображении \"{}\" -- '.format(file_name), end='')\n",
    "\n",
    "            img_squared=Image.open(test_squared_path + file_name)\n",
    "            classificaton_img(img_squared,'норм. проп.')\n",
    "            print(' или ',end='')\n",
    "\n",
    "            img_just_resized=Image.open(test_just_resized_path + file_name)\n",
    "            classificaton_img(img_just_resized,'изм. проп.')\n",
    "            print()\n",
    "else:\n",
    "    response = req.get(url)\n",
    "    im = Image.open(BytesIO(response.content))\n",
    "    print('На изображении {} -- '.format('по URL'), end='')\n",
    "    im_squared = crop_max_square(im)\n",
    "    scaled_im = im_squared.resize((img_size[0],img_size[1]))\n",
    "    classificaton_img(scaled_im,'норм. проп.')\n",
    "    \n",
    "    print(' или ',end='')\n",
    "    \n",
    "    just_resized=im.resize((img_size[0],img_size[1]))\n",
    "    classificaton_img(just_resized,'изм. проп.')\n",
    "    "
   ]
  },
  {
   "cell_type": "markdown",
   "metadata": {},
   "source": [
    "### Исходные материалы и актуальные модели доступны по ссылке:"
   ]
  },
  {
   "cell_type": "markdown",
   "metadata": {},
   "source": [
    "https://drive.google.com/drive/folders/17grYsTBmWnJSMvdK7KvpID0zheJYlxlj?usp=sharing"
   ]
  }
 ],
 "metadata": {
  "kernelspec": {
   "display_name": "Python 3",
   "language": "python",
   "name": "python3"
  },
  "language_info": {
   "codemirror_mode": {
    "name": "ipython",
    "version": 3
   },
   "file_extension": ".py",
   "mimetype": "text/x-python",
   "name": "python",
   "nbconvert_exporter": "python",
   "pygments_lexer": "ipython3",
   "version": "3.6.7"
  }
 },
 "nbformat": 4,
 "nbformat_minor": 4
}
